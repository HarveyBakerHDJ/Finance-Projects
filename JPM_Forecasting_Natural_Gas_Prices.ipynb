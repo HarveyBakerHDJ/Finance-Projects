{
 "cells": [
  {
   "cell_type": "code",
   "execution_count": null,
   "id": "077c2eab-abf0-4f40-91a8-f178a1c5c492",
   "metadata": {},
   "outputs": [],
   "source": [
    "%matplotlib inline"
   ]
  },
  {
   "cell_type": "code",
   "execution_count": null,
   "id": "7a5b2ed8-8221-4f2d-86f3-5822f77ad3b6",
   "metadata": {},
   "outputs": [],
   "source": [
    "import pandas as pd\n",
    "import numpy as np\n",
    "import matplotlib.pyplot as plt"
   ]
  },
  {
   "cell_type": "code",
   "execution_count": null,
   "id": "12659ffa-517e-4e9b-83c9-034ad48ff27e",
   "metadata": {},
   "outputs": [],
   "source": [
    "# load in data via pandas read csv function and store as dataframe (data)\n",
    "data = pd.read_csv(r'C:\\Users\\44734\\OneDrive\\Desktop\\JPM_QR\\Task 1\\Nat_Gas.csv')\n",
    "data"
   ]
  },
  {
   "cell_type": "code",
   "execution_count": null,
   "id": "e3b1be43-8c69-406b-a66f-be0e6a3110f2",
   "metadata": {},
   "outputs": [],
   "source": [
    "# create a plot showing the absolute price of natural gas over time\n",
    "data.plot()\n",
    "plt.title('Historical Natural Gas Prices')\n",
    "plt.xlabel('Date')\n",
    "plt.ylabel('Price')\n",
    "plt.show()"
   ]
  },
  {
   "cell_type": "code",
   "execution_count": null,
   "id": "4650133b-70c6-4cd4-b2c3-d8fa8f86a96e",
   "metadata": {},
   "outputs": [],
   "source": [
    "## Notes ^ \n",
    "\n",
    "### Clear there is a drift and also seasonality to the data, where every ~10 months we see a ~10% retrace in prices\n",
    "\n",
    "### Means data is a submartingale for the period shown, mean may show periodic fluctuations, autocorrelation will be \n",
    "### strongly correlated with its previous values & variance may also exhibit periodic changes such as during winter due to \n",
    "### increased consumption of natural gas for heating\n",
    "\n",
    "### 8-12 Jun to Oct | 19-22 May to Sep | 32-34 Jun to Sep | 43-46 May - Sep"
   ]
  },
  {
   "cell_type": "code",
   "execution_count": null,
   "id": "47d0edab-d912-4427-b3b0-851380257f8d",
   "metadata": {},
   "outputs": [],
   "source": [
    "# import model \n",
    "from statsmodels.tsa.holtwinters import ExponentialSmoothing\n",
    "\n",
    "# fit the model\n",
    "model = ExponentialSmoothing(data['Prices'], trend='add', seasonal='add', seasonal_periods=12).fit()\n",
    "forecast = model.forecast(steps=12)  # Forecast for an additional 12 months\n",
    "\n",
    "# plot the forecast\n",
    "data.plot(label='Historical')\n",
    "forecast.plot(label='Forecast', linestyle='--')\n",
    "plt.legend()\n",
    "plt.show()"
   ]
  },
  {
   "cell_type": "code",
   "execution_count": null,
   "id": "ca58b5b1-4bb1-4bfd-aeb7-3b3ecc34d6fb",
   "metadata": {},
   "outputs": [],
   "source": [
    "forecast"
   ]
  },
  {
   "cell_type": "code",
   "execution_count": null,
   "id": "d99d5711-8f41-4849-a7df-ecf12d7e9796",
   "metadata": {},
   "outputs": [],
   "source": [
    "# turn into pandas dataframe\n",
    "forecast_df = pd.DataFrame(forecast, columns=['Price'])\n",
    "forecast_df"
   ]
  },
  {
   "cell_type": "code",
   "execution_count": null,
   "id": "877e0be1-f1cc-4ea1-8cad-dcf1796f6638",
   "metadata": {},
   "outputs": [],
   "source": [
    "# adds a date column to forecasted prices dataframe \n",
    "forecast_df['Dates'] = pd.date_range(start='2024-09-30', periods=12, freq='M') \n",
    "forecast_df.head()"
   ]
  },
  {
   "cell_type": "code",
   "execution_count": null,
   "id": "813b4da4-84f3-4cc5-a7a7-7dc0d26d8de5",
   "metadata": {},
   "outputs": [],
   "source": [
    "def get_price_estimate(date):\n",
    "    if date in data['Dates']:\n",
    "        return data.loc[date].values[0]\n",
    "    elif date in forecast_df.index:\n",
    "        return forecast_df.loc[date]\n",
    "    else:\n",
    "        print('Date out of range for available forecast')"
   ]
  },
  {
   "cell_type": "code",
   "execution_count": null,
   "id": "93994fa9-fee1-4a08-b1b3-97e47e010f71",
   "metadata": {},
   "outputs": [],
   "source": [
    "# please use the index number to the corresponding date\n",
    "print(get_price_estimate(58))"
   ]
  },
  {
   "cell_type": "code",
   "execution_count": null,
   "id": "907d364a-252d-4c4e-a6ac-eb035ebd4135",
   "metadata": {},
   "outputs": [],
   "source": []
  }
 ],
 "metadata": {
  "kernelspec": {
   "display_name": "Python 3 (ipykernel)",
   "language": "python",
   "name": "python3"
  },
  "language_info": {
   "codemirror_mode": {
    "name": "ipython",
    "version": 3
   },
   "file_extension": ".py",
   "mimetype": "text/x-python",
   "name": "python",
   "nbconvert_exporter": "python",
   "pygments_lexer": "ipython3",
   "version": "3.12.3"
  }
 },
 "nbformat": 4,
 "nbformat_minor": 5
}
