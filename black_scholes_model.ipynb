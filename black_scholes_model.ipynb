{
 "cells": [
  {
   "cell_type": "markdown",
   "id": "5ec9d121-b32f-48c2-8af5-c74cb2c1445d",
   "metadata": {},
   "source": [
    "## CMD prompt to run application in streamlit"
   ]
  },
  {
   "cell_type": "code",
   "execution_count": null,
   "id": "82e136b8-1d6f-4131-a475-a2cf565dbb41",
   "metadata": {},
   "outputs": [],
   "source": [
    "# streamlit run C:\\your\\directory\\path\\black_scholes_model.py"
   ]
  },
  {
   "cell_type": "markdown",
   "id": "18cb1ec5-4de7-49ac-a60d-0edf44a61335",
   "metadata": {},
   "source": [
    "## Library Imports"
   ]
  },
  {
   "cell_type": "code",
   "execution_count": null,
   "id": "81ff43be-6d6f-4766-8ea2-eab6c1b1a8c7",
   "metadata": {},
   "outputs": [],
   "source": [
    "import streamlit as st\n",
    "import numpy as np\n",
    "from scipy.stats import norm\n",
    "import pandas as pd\n",
    "import plotly.express as px\n",
    "import plotly.graph_objects as go\n",
    "from datetime import datetime, timedelta"
   ]
  },
  {
   "cell_type": "markdown",
   "id": "5229fcc2-2714-4ef9-b0f3-abdc435c394a",
   "metadata": {},
   "source": [
    "## Python Application "
   ]
  },
  {
   "cell_type": "markdown",
   "id": "b78fb90a-4b46-40c4-aaf0-cf161c03aa2e",
   "metadata": {},
   "source": [
    "#### Black-Scholes Pricing Model"
   ]
  },
  {
   "cell_type": "code",
   "execution_count": null,
   "id": "73e74af3-334f-434b-a345-9aa8b4537bf8",
   "metadata": {},
   "outputs": [],
   "source": [
    "# / calculation of theoretical option price block\n",
    "def calculate_black_scholes(S, K, T, r, sigma, option_type='call'): # defines our black scholes function and the arguments taken\n",
    "    \"\"\"Calculate Black-Scholes option price and Greeks\"\"\"\n",
    "    \n",
    "    # / calculates d1 and d2\n",
    "    d1 = (np.log(S/K) + (r + sigma**2/2)*T) / (sigma*np.sqrt(T)) \n",
    "    d2 = d1 - sigma*np.sqrt(T)\n",
    "    \n",
    "    # // calculates option price\n",
    "    # / block for call options\n",
    "    if option_type == 'call': # checks if option_type is call\n",
    "        price = S*norm.cdf(d1) - K*np.exp(-r*T)*norm.cdf(d2) # calculates price specific to put\n",
    "        delta = norm.cdf(d1) # calculates delta specific to put\n",
    "        theta = (-S*sigma*norm.pdf(d1))/(2*np.sqrt(T)) - r*K*np.exp(-r*T)*norm.cdf(d2) # calculates theta specific to put\n",
    "\n",
    "    # / block for put options\n",
    "    else:  \n",
    "        price = K*np.exp(-r*T)*norm.cdf(-d2) - S*norm.cdf(-d1) # calculates price specific to put\n",
    "        delta = norm.cdf(d1) - 1 # calculates delta specific to put\n",
    "        theta = (-S*sigma*norm.pdf(d1))/(2*np.sqrt(T)) + r*K*np.exp(-r*T)*norm.cdf(-d2) # calculates theta specific to put\n",
    "    \n",
    "    # / block for greeks that are the same for both calls and puts\n",
    "    gamma = norm.pdf(d1)/(S*sigma*np.sqrt(T)) # calculates gamma \n",
    "    vega = S*np.sqrt(T)*norm.pdf(d1) # calculates vega\n",
    "    rho = K*T*np.exp(-r*T)*norm.cdf(d2) if option_type == 'call' else -K*T*np.exp(-r*T)*norm.cdf(-d2) # calculates rho \n",
    "\n",
    "    # / returns values to a dictionary\n",
    "    return {\n",
    "        'price': price, \n",
    "        'delta': delta, # delta measures option prices sensitivity to changes in the underlying asset's price\n",
    "        'gamma': gamma, # gamma measures the rate of change of delta with respect to underlying's price\n",
    "        'theta': theta, # time decay, rate of decline in option price as expiration approaches\n",
    "        'vega': vega, # vega measures sensitivity of option price to changes of implied volatility in the underlying\n",
    "        'rho': rho # rho measures the sensitivity of the options price to changes in risk free rate \n",
    "    }"
   ]
  },
  {
   "cell_type": "markdown",
   "id": "5caf14c3-49c0-4b88-abad-56630a3a533d",
   "metadata": {},
   "source": [
    "#### Creating Plot"
   ]
  },
  {
   "cell_type": "code",
   "execution_count": null,
   "id": "b63789c2-df4c-4ab7-bfbe-05bbd8f524a7",
   "metadata": {},
   "outputs": [],
   "source": [
    "# / create sensitivity line plot block\n",
    "def create_sensitivity_plot(param_range, prices, param_name): # defines function and the arguments taken\n",
    "    \"\"\"Create a plotly figure for sensitivity analysis\"\"\"\n",
    "\n",
    "    # / data housing\n",
    "    df = pd.DataFrame({ # creates pandas dataframe to house params\n",
    "        param_name: param_range, # column for param_name and param_values\n",
    "        'Option Price': prices # column for corresponding option prices\n",
    "    })\n",
    "    \n",
    "    # / creating plot\n",
    "    fig = px.line(df, x=param_name, y='Option Price', # creates a plotly line plot with specifications\n",
    "                  title=f'Option Price Sensitivity to {param_name}') # sets title\n",
    "\n",
    "    # / customises plot layout\n",
    "    fig.update_layout( \n",
    "        xaxis_title=param_name, # x-axis label\n",
    "        yaxis_title='Option Price', # y-axis label\n",
    "        showlegend=False # makes sure legend is shown\n",
    "    )\n",
    "    return fig # returns fig for display / further use "
   ]
  },
  {
   "cell_type": "markdown",
   "id": "04591770-77b4-4f9c-8dba-587994da3ef3",
   "metadata": {},
   "source": [
    "## Streamlit Application"
   ]
  },
  {
   "cell_type": "code",
   "execution_count": null,
   "id": "5d0693db-7110-42b1-b102-70128dc887c5",
   "metadata": {
    "editable": true,
    "slideshow": {
     "slide_type": ""
    },
    "tags": []
   },
   "outputs": [],
   "source": [
    "# / initialize main for function execution\n",
    "def main():\n",
    "    st.set_page_config(page_title=\"Black-Scholes Option Calculator\", layout=\"wide\") # configure page title  in browser and layout\n",
    "    \n",
    "    st.title(\"Black-Scholes Option Calculator\") # sets header of web app \n",
    "    st.markdown(\"\"\"\n",
    "    Calculate European-style option prices and analyze sensitivities using the Black-Scholes model.\n",
    "    \"\"\") # subheading explaining purpose\n",
    "    \n",
    "    # / create two columns for input parameters\n",
    "    col1, col2 = st.columns(2) \n",
    "\n",
    "    # / column 1 block\n",
    "    with col1: # creates context for widgets \n",
    "        st.subheader(\"Option Parameters\") # creates subheading for column\n",
    "        option_type = st.selectbox(\"Option Type\", ['call', 'put']) # dropdown selection box for selecting option type\n",
    "        S = st.number_input(\"Stock Price (S)\", min_value=0.01, value=100.0, step=1.0) # number field input for stock price\n",
    "        K = st.number_input(\"Strike Price (K)\", min_value=0.01, value=100.0, step=1.0) # number field input for strike price\n",
    "        \n",
    "        # / time input block\n",
    "        st.write(\"Time to Expiry\") # adds text label to describe purpose\n",
    "        today = datetime.today() # intializes variable as todays date\n",
    "        expiry_date = st.date_input( # creates date input field for expiry date\n",
    "            \"Expiry Date\",\n",
    "            min_value=today, # ensures min value to enter is 'today' \n",
    "            value=today + timedelta(days=365) # sets default value as one year from 'today'\n",
    "        )\n",
    "\n",
    "        # / time to expiry block\n",
    "        T = (expiry_date - today.date()).days / 365.0 # calculates the time to expiry \n",
    "\n",
    "    # column 2 block \n",
    "    with col2: # creates context for widgets\n",
    "        st.subheader(\"Market Parameters\") # adds subheader for market parameters\n",
    "        r = st.number_input(\"Risk-free Rate (r)\", min_value=0.0, max_value=1.0, value=0.05, step=0.01, format=\"%.3f\") # input field for risk free rate to 3 decimal place format, increment steps, default value and max/min values\n",
    "        sigma = st.number_input(\"Volatility (σ)\", min_value=0.01, max_value=2.0, value=0.2, step=0.01, format=\"%.2f\") # input field for volatility to 2 decimal place format, increment steps, default value and max/min values \n",
    "    \n",
    "    # / calculate results try block, if there is an error this is 'caught' by the except block\n",
    "    try:\n",
    "        results = calculate_black_scholes(S, K, T, r, sigma, option_type) # calls black-scholes function onto the inputted parametrs and stores in results variable\n",
    "        \n",
    "        # / block for layout of results\n",
    "        st.subheader(\"Results\") # adds a subheader for the results \n",
    "        col1, col2, col3 = st.columns(3) # creates 3 neat columns \n",
    "\n",
    "        # / column 1 block\n",
    "        with col1: # create context for widgets\n",
    "            st.metric(\"Option Price\", f\"${results['price']:.2f}\") # displays the option price with 2 decimal place and a $\n",
    "            st.metric(\"Delta\", f\"{results['delta']:.4f}\") # displays the delta formatted to decimal places\n",
    "\n",
    "        # / column 2 block\n",
    "        with col2: # create context for widgets\n",
    "            st.metric(\"Gamma\", f\"{results['gamma']:.4f}\") # displays gamme to 4 d.p\n",
    "            st.metric(\"Theta\", f\"{results['theta']:.4f}\") # displays theta ti 4 d.p\n",
    "\n",
    "        # / column 3 block\n",
    "        with col3: # create context for widgets\n",
    "            st.metric(\"Vega\", f\"{results['vega']:.4f}\") # displays vega to 4 d.p\n",
    "            st.metric(\"Rho\", f\"{results['rho']:.4f}\") # displays rho to 4 d.p\n",
    "        \n",
    "        # / sensitivity Analysis block\n",
    "        st.subheader(\"Sensitivity Analysis\") # creates new subheader for this section\n",
    "        \n",
    "        # / prepare data for plots block\n",
    "        base_params = {'S': S, 'K': K, 'T': T, 'r': r, 'sigma': sigma}\n",
    "        \n",
    "        # / create tabs for different sensitivities block\n",
    "        tab1, tab2, tab3, tab4 = st.tabs([\"Stock Price\", \"Volatility\", \"Time\", \"Interest Rate\"]) # creates 4 tabs with corresponding titles\n",
    "\n",
    "        # / stock range to price tab\n",
    "        with tab1:\n",
    "            stock_range = np.linspace(max(0.1, S-50), S+50, 100) # creates 100 stock price values, dynamically using the inputted params\n",
    "            prices = [calculate_black_scholes(s, K, T, r, sigma, option_type)['price'] for s in stock_range] # calculates opton price for each stock price value and appends to a list\n",
    "            st.plotly_chart(create_sensitivity_plot(stock_range, prices, 'Stock Price')) # creates sensitivity plot by calling function upon arguments\n",
    "\n",
    "        # / volatility to price tab\n",
    "        with tab2:\n",
    "            vol_range = np.linspace(0.05, 1.0, 100) # intialises a volatility value range (of 100 values) from 0.05 to 100 as a numpy array\n",
    "            prices = [calculate_black_scholes(S, K, T, r, v, option_type)['price'] for v in vol_range] # appends prices to a list after calculating option price for each value in volatility range\n",
    "            st.plotly_chart(create_sensitivity_plot(vol_range, prices, 'Volatility')) # displays plot by calling the create plot function onto volatility range and prices, with volatility as the x axis label\n",
    "\n",
    "        # / time to expiry to price tab\n",
    "        with tab3: \n",
    "            time_range = np.linspace(0.01, 2.0, 100) # creates time to expiry range\n",
    "            prices = [calculate_black_scholes(S, K, t, r, sigma, option_type)['price'] for t in time_range] # \"\"\n",
    "            st.plotly_chart(create_sensitivity_plot(time_range, prices, 'Time to Expiry')) # \"\" \n",
    "\n",
    "        # / risk free rate to price tab\n",
    "        with tab4:\n",
    "            rate_range = np.linspace(0.0, 0.2, 100) # creates risk free rate range \n",
    "            prices = [calculate_black_scholes(S, K, T, rt, sigma, option_type)['price'] for rt in rate_range] # \"\"\n",
    "            st.plotly_chart(create_sensitivity_plot(rate_range, prices, 'Interest Rate')) # \"\"\n",
    "    \n",
    "    # / error catching block         \n",
    "    except Exception as e: \n",
    "        st.error(f\"An error occurred: {str(e)}\") # displays error message within streamlit app\n",
    "        st.info(\"Please check your input parameters and try again.\") # advises users to review their inputs to correct any issues\n",
    "\n",
    "if __name__ == '__main__':\n",
    "    main()"
   ]
  },
  {
   "cell_type": "code",
   "execution_count": null,
   "id": "1074dd52-268f-4c13-8d89-88331cae9dc3",
   "metadata": {},
   "outputs": [],
   "source": []
  }
 ],
 "metadata": {
  "kernelspec": {
   "display_name": "Python 3 (ipykernel)",
   "language": "python",
   "name": "python3"
  },
  "language_info": {
   "codemirror_mode": {
    "name": "ipython",
    "version": 3
   },
   "file_extension": ".py",
   "mimetype": "text/x-python",
   "name": "python",
   "nbconvert_exporter": "python",
   "pygments_lexer": "ipython3",
   "version": "3.12.3"
  }
 },
 "nbformat": 4,
 "nbformat_minor": 5
}
